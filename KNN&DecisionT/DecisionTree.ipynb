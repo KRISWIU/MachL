{
 "cells": [
  {
   "cell_type": "markdown",
   "id": "d94c57b0",
   "metadata": {},
   "source": [
    "# 1. Set up for database and data structure"
   ]
  },
  {
   "cell_type": "code",
   "execution_count": 1,
   "id": "ad1b693f",
   "metadata": {},
   "outputs": [
    {
     "name": "stdout",
     "output_type": "stream",
     "text": [
      "[[1 2 1 ... 1 2 1]\n",
      " [1 2 1 ... 1 0 1]\n",
      " [0 2 2 ... 1 1 0]\n",
      " ...\n",
      " [1 0 1 ... 1 2 1]\n",
      " [1 1 1 ... 1 2 1]\n",
      " [1 2 1 ... 0 1 1]]\n"
     ]
    }
   ],
   "source": [
    "from treeNode import*\n",
    "import pandas\n",
    "import numpy as np\n",
    "import operator\n",
    "from math import log\n",
    "datasets = np.array(pandas.read_csv('house_votes_84.csv'))\n",
    "print(datasets)"
   ]
  },
  {
   "cell_type": "code",
   "execution_count": 2,
   "id": "afe4db36",
   "metadata": {},
   "outputs": [
    {
     "name": "stdout",
     "output_type": "stream",
     "text": [
      "(435, 17)\n"
     ]
    }
   ],
   "source": [
    "print(datasets.shape)"
   ]
  },
  {
   "cell_type": "code",
   "execution_count": 3,
   "id": "204682d6",
   "metadata": {},
   "outputs": [
    {
     "name": "stdout",
     "output_type": "stream",
     "text": [
      "[[1 2 1 ... 2 1 2]\n",
      " [1 2 1 ... 2 1 0]\n",
      " [0 2 2 ... 2 1 1]\n",
      " ...\n",
      " [1 0 1 ... 2 1 2]\n",
      " [1 1 1 ... 2 1 2]\n",
      " [1 2 1 ... 2 0 1]]\n",
      "[1 1 0 0 0 0 0 1 1 0 1 1 0 0 1 1 0 0 1 0 0 0 0 0 0 0 0 0 1 0 1 0 0 1 0 1 1\n",
      " 1 1 0 0 0 0 0 0 0 0 0 0 1 0 1 0 1 0 1 1 1 1 1 0 1 0 0 0 1 1 1 0 0 0 1 0 1\n",
      " 0 0 0 0 0 1 0 0 1 1 1 0 1 1 0 1 0 0 0 0 0 0 0 0 0 1 0 0 0 0 0 0 1 1 0 0 0\n",
      " 1 0 1 0 0 0 1 0 1 1 1 1 1 0 1 1 0 0 0 0 0 1 1 1 1 1 0 0 0 1 1 1 0 0 0 1 0\n",
      " 1 0 1 0 0 0 1 1 1 0 1 0 0 0 0 1 0 0 1 1 0 0 0 1 0 0 0 0 1 0 0 0 0 0 0 0 0\n",
      " 0 0 0 1 0 1 1 0 0 0 1 0 1 0 0 0 0 0 0 1 0 1 1 0 0 0 1 0 0 1 0 0 1 0 0 0 0\n",
      " 0 1 1 1 0 0 1 1 1 1 0 1 0 1 0 0 0 1 1 0 1 0 0 0 0 1 1 0 1 1 0 1 0 0 1 1 0\n",
      " 0 0 0 0 0 0 0 1 1 0 0 0 0 0 1 1 0 1 1 1 1 0 1 1 1 0 0 0 0 0 0 0 0 0 0 0 1\n",
      " 1 0 0 0 1 0 1 1 1 1 1 0 1 0 1 0 0 1 1 1 0 0 0 0 0 0 0 0 1 0 0 1 0 0 1 0 0\n",
      " 0 0 1 0 0 0 1 1 0 0 1 0 1 1 1 0 1 0 1 0 1 0 1 1 1 0 1 0 0 0 1 1 0 0 0 0 1\n",
      " 0 0 0 0 1 0 0 1 1 1 0 0 0 0 0 0 0 0 0 0 0 0 1 1 0 0 0 0 0 1 1 1 1 1 1 1 0\n",
      " 0 0 1 1 0 1 1 0 0 1 0 0 0 1 0 0 0 0 0 0 1 0 0 1 0 1 1 1]\n"
     ]
    }
   ],
   "source": [
    "x = datasets[:,[0,1,2,3,4,5,6,7,8,9,10,11,12,13,14,15]]\n",
    "y = datasets[:,16]\n",
    "print(x)\n",
    "print(y)"
   ]
  },
  {
   "cell_type": "code",
   "execution_count": 21,
   "id": "2b632648",
   "metadata": {},
   "outputs": [
    {
     "name": "stdout",
     "output_type": "stream",
     "text": [
      "[[2 2 2 ... 1 2 2]\n",
      " [1 2 1 ... 2 1 1]\n",
      " [1 2 1 ... 2 1 0]\n",
      " ...\n",
      " [2 2 2 ... 1 2 2]\n",
      " [1 0 1 ... 2 1 0]\n",
      " [1 1 1 ... 2 1 0]]\n",
      "[0 1 1 1 1 0 0 0 0 0 0 0 0 1 0 0 1 1 0 1 0 0 0 1 1 0 0 0 0 0 0 1 0 0 1 1 1\n",
      " 1 1 1 0 1 0 0 0 0 0 1 1 0 0 1 0 1 0 0 0 0 0 1 0 1 0 1 0 0 0 0 1 0 1 0 0 1\n",
      " 0 0 0 0 1 1 1 1 0 0 1 1 1 1 0 0 0 0 1 0 0 0 1 0 1 0 1 1 0 1 0 0 1 0 0 0 0\n",
      " 0 1 0 0 0 1 0 1 0 1 0 1 0 0 1 1 0 0 0 0 1 0 0 0 1 0 0 1 0 1 0 1 1 1 1 0 0\n",
      " 0 0 1 0 0 1 0 1 0 0 0 1 0 1 0 1 1 0 0 1 0 0 1 1 1 0 1 0 1 1 1 0 0 0 1 0 1\n",
      " 0 0 0 0 1 1 0 0 1 1 0 0 0 1 0 1 0 0 1 1 1 0 0 0 0 1 1 0 0 1 0 0 0 1 1 0 1\n",
      " 1 0 0 0 0 1 0 1 1 0 0 1 0 0 0 0 1 0 1 1 0 0 0 0 1 0 1 1 0 0 0 0 1 1 0 0 0\n",
      " 1 0 1 0 0 1 0 0 0 0 0 1 0 1 0 1 0 0 0 0 0 1 0 0 1 1 1 1 1 1 0 0 0 0 1 0 0\n",
      " 1 0 0 0 0 0 1 1 1 0 0 0 0 1 0 0 1 1 0 0 0 1 1 0 0 1 0 0 1 1 0 1 0 0 0 0 1\n",
      " 0 0 0 1 0 0 1 1 1 1 1 0 0 0 1]\n",
      "[[1 1 2 ... 1 2 0]\n",
      " [1 2 1 ... 2 1 1]\n",
      " [2 1 2 ... 1 2 0]\n",
      " ...\n",
      " [2 2 1 ... 2 1 2]\n",
      " [1 2 2 ... 2 2 2]\n",
      " [1 1 2 ... 2 1 2]]\n",
      "[0 1 0 0 0 0 0 1 0 0 1 0 0 0 0 0 1 0 0 1 0 0 0 0 0 0 0 1 1 1 1 0 0 1 0 1 0\n",
      " 1 0 1 1 0 0 0 0 0 1 0 1 1 0 0 1 1 0 1 1 1 1 0 1 0 0 0 0 0 0 0 0 0 0 0 0 1\n",
      " 1 0 0 1 1 0 0 0 0 0 1 0 1]\n"
     ]
    }
   ],
   "source": [
    "import sklearn\n",
    "from sklearn.model_selection import train_test_split\n",
    "trainX, trainY, testX, testY = train_test_split(x, y, test_size=0.2)\n",
    "print(trainX)\n",
    "print(testX)\n",
    "print(trainY)\n",
    "print(testY)"
   ]
  },
  {
   "cell_type": "markdown",
   "id": "76f1da7e",
   "metadata": {},
   "source": [
    "# Tree's shang calculation"
   ]
  },
  {
   "cell_type": "code",
   "execution_count": 5,
   "id": "44bbf10a",
   "metadata": {},
   "outputs": [],
   "source": [
    "import math\n",
    "def calShang(column, output):\n",
    "    outputPosi = 0\n",
    "    \n",
    "    zeroPosi = 0\n",
    "    onePosi = 0\n",
    "    twoPosi = 0\n",
    "    \n",
    "    zeroNum = 0\n",
    "    oneNum = 0\n",
    "    twoNum = 0\n",
    "    index = 0\n",
    "    while index<len(column):\n",
    "        if column[index] == 0:\n",
    "            zeroNum +=1\n",
    "            if output[index] == 1:\n",
    "                zeroPosi +=1\n",
    "        if column[index] == 1:\n",
    "            oneNum +=1\n",
    "            if output[index] == 1:\n",
    "                onePosi +=1\n",
    "        if column[index] == 2:\n",
    "            twoNum +=1\n",
    "            if output[index] == 1:\n",
    "                twoPosi +=1\n",
    "        if output[index] == 1:\n",
    "            outputPosi +=1\n",
    "        index +=1\n",
    "    if zeroPosi==zeroNum or onePosi==oneNum or twoPosi==twoNum or outputPosi==len(output):\n",
    "        return 0\n",
    "    endD = calHelp(outputPosi,len(output))\n",
    "    end0 = calHelp(zeroPosi,zeroNum)\n",
    "    end1 = calHelp(onePosi,oneNum)\n",
    "    end2 = calHelp(twoPosi,twoNum)\n",
    "    return endD-(zeroNum/len(output)*end0 + oneNum/len(output)*end1 + twoNum/len(output)*end2)"
   ]
  },
  {
   "cell_type": "code",
   "execution_count": 6,
   "id": "50c9b649",
   "metadata": {},
   "outputs": [],
   "source": [
    "def calHelp(positive, totalNum):\n",
    "    if positive >= totalNum or positive == 0:\n",
    "        return 0\n",
    "    return -((positive/totalNum)*math.log(positive/totalNum)+((totalNum-positive)/totalNum)*math.log((totalNum-positive)/totalNum))"
   ]
  },
  {
   "cell_type": "code",
   "execution_count": 7,
   "id": "6400a369",
   "metadata": {},
   "outputs": [
    {
     "name": "stdout",
     "output_type": "stream",
     "text": [
      "[1 1 2 2 2 2 1 2 1 1 2 1 1 1 2 1 2 1 1 2 1 2 1 1 1 1 1 1 2 1 1 1 1 1 2 2 2\n",
      " 2 1 1 1 2 1 1 1 2 1 2 2 1 0 1 2 1 2 1 1 2 2 1 2 1 1 1 2 2 2 2 1 1 1 2 2 1\n",
      " 2 2 1 1 2 1 2 1 1 2 2 1 2 1 1 1 1 2 2 1 2 1 1 1 2 1 1 1 1 1 2 2 1 2 1 2 2\n",
      " 1 2 2 2 2 2 1 1 2 2 1 2 1 1 2 1 2 2 2 2 1 1 1 1 2 2 2 1 1 1 1 1 1 1 1 1 1\n",
      " 1 1 1 2 1 1 1 1 2 2 2 1 0 1 1 1 2 1 1 1 1 1 2 2 1 1 1 1 2 1 1 1 2 1 2 1 2\n",
      " 0 1 2 2 1 2 1 1 2 1 2 1 2 1 2 2 2 1 1 2 2 1 0 2 2 2 1 1 1 2 2 1 0 1 2 2 0\n",
      " 1 1 0 2 2 1 2 2 2 1 2 2 2 1 0 2 1 1 2 1 2 1 2 1 1 1 2 1 1 2 1 2 2 1 1 2 1\n",
      " 1 1 1 2 1 1 1 1 1 2 2 1 2 1 1 2 1 0 1 2 1 2 2 1 2 2 1 1 1 2 1 2 1 2 2 2 2\n",
      " 2 1 2 2 2 2 2 1 1 1 2 2 1 2 2 1 2 1 2 1 2 2 2 1 1 2 2 2 2 1 0 1 2 1 1 2 1\n",
      " 1 1 1 2 1 2 1 2 1 1 1 1 2 1 1]\n"
     ]
    }
   ],
   "source": [
    "print(trainX[:,0])"
   ]
  },
  {
   "cell_type": "code",
   "execution_count": 8,
   "id": "399f0ce0",
   "metadata": {},
   "outputs": [],
   "source": [
    "def shangListCreate(x,y,indexList):\n",
    "    shangList = []\n",
    "    index = 0\n",
    "    while index<16:\n",
    "        if index not in indexList:\n",
    "            shangList.append([calShang(x[:,index],y),index])\n",
    "        index+=1\n",
    "    shangList.sort()\n",
    "    #if shangList[15][0] == 0:\n",
    "        #print(x)\n",
    "        #print(y)\n",
    "    #print(shangList)\n",
    "    return shangList"
   ]
  },
  {
   "cell_type": "code",
   "execution_count": 9,
   "id": "1c09256c",
   "metadata": {},
   "outputs": [
    {
     "ename": "ValueError",
     "evalue": "The truth value of an array with more than one element is ambiguous. Use a.any() or a.all()",
     "output_type": "error",
     "traceback": [
      "\u001b[0;31m---------------------------------------------------------------------------\u001b[0m",
      "\u001b[0;31mValueError\u001b[0m                                Traceback (most recent call last)",
      "\u001b[0;32m/var/folders/kq/w5lq_xsn00n17yqyz8ktfjs80000gn/T/ipykernel_30476/734695956.py\u001b[0m in \u001b[0;36m<module>\u001b[0;34m\u001b[0m\n\u001b[0;32m----> 1\u001b[0;31m \u001b[0mlistInit\u001b[0m \u001b[0;34m=\u001b[0m \u001b[0mshangListCreate\u001b[0m\u001b[0;34m(\u001b[0m\u001b[0mtrainX\u001b[0m\u001b[0;34m,\u001b[0m\u001b[0mtrainY\u001b[0m\u001b[0;34m,\u001b[0m\u001b[0;34m[\u001b[0m\u001b[0;34m]\u001b[0m\u001b[0;34m)\u001b[0m\u001b[0;34m\u001b[0m\u001b[0;34m\u001b[0m\u001b[0m\n\u001b[0m\u001b[1;32m      2\u001b[0m \u001b[0;31m#print(listInit)\u001b[0m\u001b[0;34m\u001b[0m\u001b[0;34m\u001b[0m\u001b[0;34m\u001b[0m\u001b[0m\n",
      "\u001b[0;32m/var/folders/kq/w5lq_xsn00n17yqyz8ktfjs80000gn/T/ipykernel_30476/2799900599.py\u001b[0m in \u001b[0;36mshangListCreate\u001b[0;34m(x, y, indexList)\u001b[0m\n\u001b[1;32m      4\u001b[0m     \u001b[0;32mwhile\u001b[0m \u001b[0mindex\u001b[0m\u001b[0;34m<\u001b[0m\u001b[0;36m16\u001b[0m\u001b[0;34m:\u001b[0m\u001b[0;34m\u001b[0m\u001b[0;34m\u001b[0m\u001b[0m\n\u001b[1;32m      5\u001b[0m         \u001b[0;32mif\u001b[0m \u001b[0mindex\u001b[0m \u001b[0;32mnot\u001b[0m \u001b[0;32min\u001b[0m \u001b[0mindexList\u001b[0m\u001b[0;34m:\u001b[0m\u001b[0;34m\u001b[0m\u001b[0;34m\u001b[0m\u001b[0m\n\u001b[0;32m----> 6\u001b[0;31m             \u001b[0mshangList\u001b[0m\u001b[0;34m.\u001b[0m\u001b[0mappend\u001b[0m\u001b[0;34m(\u001b[0m\u001b[0;34m[\u001b[0m\u001b[0mcalShang\u001b[0m\u001b[0;34m(\u001b[0m\u001b[0mx\u001b[0m\u001b[0;34m[\u001b[0m\u001b[0;34m:\u001b[0m\u001b[0;34m,\u001b[0m\u001b[0mindex\u001b[0m\u001b[0;34m]\u001b[0m\u001b[0;34m,\u001b[0m\u001b[0my\u001b[0m\u001b[0;34m)\u001b[0m\u001b[0;34m,\u001b[0m\u001b[0mindex\u001b[0m\u001b[0;34m]\u001b[0m\u001b[0;34m)\u001b[0m\u001b[0;34m\u001b[0m\u001b[0;34m\u001b[0m\u001b[0m\n\u001b[0m\u001b[1;32m      7\u001b[0m         \u001b[0mindex\u001b[0m\u001b[0;34m+=\u001b[0m\u001b[0;36m1\u001b[0m\u001b[0;34m\u001b[0m\u001b[0;34m\u001b[0m\u001b[0m\n\u001b[1;32m      8\u001b[0m     \u001b[0mshangList\u001b[0m\u001b[0;34m.\u001b[0m\u001b[0msort\u001b[0m\u001b[0;34m(\u001b[0m\u001b[0;34m)\u001b[0m\u001b[0;34m\u001b[0m\u001b[0;34m\u001b[0m\u001b[0m\n",
      "\u001b[0;32m/var/folders/kq/w5lq_xsn00n17yqyz8ktfjs80000gn/T/ipykernel_30476/1901251187.py\u001b[0m in \u001b[0;36mcalShang\u001b[0;34m(column, output)\u001b[0m\n\u001b[1;32m     18\u001b[0m         \u001b[0;32mif\u001b[0m \u001b[0mcolumn\u001b[0m\u001b[0;34m[\u001b[0m\u001b[0mindex\u001b[0m\u001b[0;34m]\u001b[0m \u001b[0;34m==\u001b[0m \u001b[0;36m1\u001b[0m\u001b[0;34m:\u001b[0m\u001b[0;34m\u001b[0m\u001b[0;34m\u001b[0m\u001b[0m\n\u001b[1;32m     19\u001b[0m             \u001b[0moneNum\u001b[0m \u001b[0;34m+=\u001b[0m\u001b[0;36m1\u001b[0m\u001b[0;34m\u001b[0m\u001b[0;34m\u001b[0m\u001b[0m\n\u001b[0;32m---> 20\u001b[0;31m             \u001b[0;32mif\u001b[0m \u001b[0moutput\u001b[0m\u001b[0;34m[\u001b[0m\u001b[0mindex\u001b[0m\u001b[0;34m]\u001b[0m \u001b[0;34m==\u001b[0m \u001b[0;36m1\u001b[0m\u001b[0;34m:\u001b[0m\u001b[0;34m\u001b[0m\u001b[0;34m\u001b[0m\u001b[0m\n\u001b[0m\u001b[1;32m     21\u001b[0m                 \u001b[0monePosi\u001b[0m \u001b[0;34m+=\u001b[0m\u001b[0;36m1\u001b[0m\u001b[0;34m\u001b[0m\u001b[0;34m\u001b[0m\u001b[0m\n\u001b[1;32m     22\u001b[0m         \u001b[0;32mif\u001b[0m \u001b[0mcolumn\u001b[0m\u001b[0;34m[\u001b[0m\u001b[0mindex\u001b[0m\u001b[0;34m]\u001b[0m \u001b[0;34m==\u001b[0m \u001b[0;36m2\u001b[0m\u001b[0;34m:\u001b[0m\u001b[0;34m\u001b[0m\u001b[0;34m\u001b[0m\u001b[0m\n",
      "\u001b[0;31mValueError\u001b[0m: The truth value of an array with more than one element is ambiguous. Use a.any() or a.all()"
     ]
    }
   ],
   "source": [
    "listInit = shangListCreate(trainX,trainY,[])\n",
    "#print(listInit)"
   ]
  },
  {
   "cell_type": "code",
   "execution_count": null,
   "id": "cad0942d",
   "metadata": {},
   "outputs": [],
   "source": [
    "sortedList = listInit.sort()\n",
    "print(listInit)"
   ]
  },
  {
   "cell_type": "code",
   "execution_count": null,
   "id": "cc71d538",
   "metadata": {},
   "outputs": [],
   "source": [
    "def getNewIndex(sortedShangList,indexList):\n",
    "    index = 0\n",
    "    while index<len(sortedShangList):\n",
    "        if sortedShangList[index][0]>0:\n",
    "            if sortedShangList[index][1] not in indexList:\n",
    "                return sortedShangList[index][1]\n",
    "        index +=1\n",
    "    #print(sortedShangList)\n",
    "    return -1"
   ]
  },
  {
   "cell_type": "markdown",
   "id": "66a5a290",
   "metadata": {},
   "source": [
    "# TreeNode Selection"
   ]
  },
  {
   "cell_type": "code",
   "execution_count": null,
   "id": "5fbb35e7",
   "metadata": {},
   "outputs": [],
   "source": [
    "def nodeSetup(x,y,indexList,node):\n",
    "    sortedList = shangListCreate(x,y)\n",
    "    index = getNewIndex(sortedList,indexList)\n",
    "    zeroNum = 0\n",
    "    for i in y:\n",
    "        if i==0:\n",
    "            zeroNum +=1\n",
    "    if zeroNum==0:\n",
    "        node = treeNode(True)\n",
    "        return\n",
    "    if zeroNum==len(y):\n",
    "        node = treeNode(False)\n",
    "        return\n",
    "    if index == -1:\n",
    "        node = treeNode(y[0])\n",
    "        return\n",
    "    if len(y)==0:\n",
    "        if y[0] == 0:\n",
    "            node = treeNode(False)\n",
    "            return\n",
    "        else:\n",
    "            node = treeNode(True)\n",
    "            return\n",
    "    indexList.append(index)\n",
    "    leftNodeList,leftY,midNodeList,midY,rightNodeList,rightY = splitData(x,y,index)\n",
    "    node = treeNode(index,nodeSetup(leftNodeList,leftY,indexList,node.left),nodeSetup(rightNodeList,rightY,indexList,node.right),nodeSetup(midNodeList,midY,indexList,node.mid))\n",
    "    #print(node.getValue())\n",
    "    \n",
    "    #node.left = nodeSetup(leftNodeList,leftY,indexList,node.left)\n",
    "    #node.right = nodeSetup(rightNodeList,rightY,indexList,node.right)\n",
    "    #node.mid = nodeSetup(midNodeList,midY,indexList,node.mid)"
   ]
  },
  {
   "cell_type": "code",
   "execution_count": null,
   "id": "f6e5e320",
   "metadata": {},
   "outputs": [],
   "source": [
    "def splitData(x,y,index):\n",
    "    splitCol = x[:,index]\n",
    "    leftNodeList = []\n",
    "    midNodeList = []\n",
    "    rightNodeList = []\n",
    "    leftY = []\n",
    "    midY = []\n",
    "    rightY = []\n",
    "    i = 0\n",
    "    while i<len(y):\n",
    "        if splitCol[i] == 0:\n",
    "            leftNodeList.append(np.array(x[i]))\n",
    "            leftY.append(y[i])\n",
    "        if splitCol[i] == 1:\n",
    "            midNodeList.append(np.array(x[i]))\n",
    "            midY.append(y[i])\n",
    "        if splitCol[i] == 2:\n",
    "            rightNodeList.append(np.array(x[i]))\n",
    "            rightY.append(y[i])\n",
    "        i+=1\n",
    "    leftList= np.array(leftNodeList)\n",
    "    leftYList = np.array(leftY)\n",
    "    midList = np.array(midNodeList)\n",
    "    midYList = np.array(midY)\n",
    "    rightList = np.array(rightNodeList)\n",
    "    rightYList = np.array(rightY)\n",
    "    return leftList, leftYList, midList, midYList, rightList, rightYList"
   ]
  },
  {
   "cell_type": "code",
   "execution_count": null,
   "id": "3364fed2",
   "metadata": {},
   "outputs": [],
   "source": [
    "leftNodeList,leftY,midNodeList,midY,rightNodeList,rightY = splitData(trainX,trainY,1)\n",
    "root = treeNode(9,None,None,None)\n",
    "root = treeNode(9,nodeSetup(leftNodeList,leftY,[9],root.left),nodeSetup(midNodeList,midY,[9],root.mid),nodeSetup(rightNodeList,rightY,[9],root.right))\n",
    "#root.left = nodeSetup(leftNodeList,leftY,[9],root.left)\n",
    "#print(\"end\")\n",
    "#root.mid = nodeSetup(midNodeList,midY,[9],root.mid)\n",
    "#print(\"end\")\n",
    "#root.right = nodeSetup(rightNodeList,rightY,[9],root.right)"
   ]
  },
  {
   "cell_type": "code",
   "execution_count": null,
   "id": "a0c79b4a",
   "metadata": {},
   "outputs": [],
   "source": [
    "print(type(root.left))"
   ]
  },
  {
   "cell_type": "code",
   "execution_count": 13,
   "id": "246a41f8",
   "metadata": {},
   "outputs": [
    {
     "name": "stdout",
     "output_type": "stream",
     "text": [
      "[[1 2 1 ... 2 1 1]\n",
      " [1 1 1 ... 2 1 2]\n",
      " [2 1 2 ... 1 2 0]\n",
      " ...\n",
      " [2 2 2 ... 1 2 2]\n",
      " [1 1 1 ... 2 1 2]\n",
      " [1 1 1 ... 2 1 2]]\n",
      "[[1 1 1 ... 2 0 2]\n",
      " [2 1 2 ... 1 0 2]\n",
      " [1 0 2 ... 1 2 2]\n",
      " ...\n",
      " [1 0 1 ... 2 1 1]\n",
      " [2 2 2 ... 1 1 0]\n",
      " [1 2 2 ... 2 1 2]]\n"
     ]
    }
   ],
   "source": [
    "from sklearn import tree\n",
    "clf = tree.DecisionTreeClassifier()\n",
    "print(trainX)\n",
    "print(trainY)\n",
    "clf = clf.fit(trainX, testX)\n",
    "clf = clf.predict(trainY)"
   ]
  },
  {
   "cell_type": "code",
   "execution_count": 17,
   "id": "acdfaa91",
   "metadata": {},
   "outputs": [
    {
     "name": "stdout",
     "output_type": "stream",
     "text": [
      "[1 0 0 0 0 0 0 0 1 1 1 1 0 0 0 0 0 0 0 1 0 0 1 1 0 0 1 1 0 1 1 1 0 1 0 0 0\n",
      " 0 0 0 1 0 0 1 0 0 0 0 0 1 1 1 0 0 0 1 0 0 0 1 0 1 0 0 0 0 1 0 1 0 1 0 0 0\n",
      " 0 1 0 0 0 0 0 0 1 1 1 0 1]\n"
     ]
    }
   ],
   "source": [
    "print(clf)"
   ]
  },
  {
   "cell_type": "code",
   "execution_count": 19,
   "id": "e834624e",
   "metadata": {},
   "outputs": [],
   "source": [
    "def printOutPredict(prediction, accurate):\n",
    "    totalNum = len(prediction)\n",
    "    accNum = 0\n",
    "    index = 0\n",
    "    while index<totalNum:\n",
    "        #print(prediction[index])\n",
    "        #print(accurate[index])\n",
    "        if prediction[index]==accurate[index]:\n",
    "            accNum = accNum+1\n",
    "        index = index+1\n",
    "    #print(\"predicted data accuracy:\")\n",
    "    #print(accNum*100.0/totalNum)\n",
    "    return accNum*100.0/totalNum"
   ]
  },
  {
   "cell_type": "code",
   "execution_count": 20,
   "id": "8ea1a19e",
   "metadata": {},
   "outputs": [
    {
     "name": "stdout",
     "output_type": "stream",
     "text": [
      "predicted data accuracy:\n",
      "91.95402298850574\n"
     ]
    },
    {
     "data": {
      "text/plain": [
       "91.95402298850574"
      ]
     },
     "execution_count": 20,
     "metadata": {},
     "output_type": "execute_result"
    }
   ],
   "source": [
    "printOutPredict(clf,testY)"
   ]
  },
  {
   "cell_type": "code",
   "execution_count": 53,
   "id": "bdbd7b80",
   "metadata": {},
   "outputs": [
    {
     "name": "stdout",
     "output_type": "stream",
     "text": [
      "predicted data accuracy:\n",
      "94.25287356321839\n",
      "predicted data accuracy:\n",
      "86.20689655172414\n",
      "predicted data accuracy:\n",
      "94.25287356321839\n",
      "predicted data accuracy:\n",
      "90.80459770114942\n",
      "predicted data accuracy:\n",
      "94.25287356321839\n",
      "predicted data accuracy:\n",
      "90.80459770114942\n",
      "predicted data accuracy:\n",
      "95.40229885057471\n",
      "predicted data accuracy:\n",
      "93.10344827586206\n",
      "predicted data accuracy:\n",
      "96.55172413793103\n",
      "predicted data accuracy:\n",
      "95.40229885057471\n",
      "predicted data accuracy:\n",
      "88.50574712643679\n",
      "predicted data accuracy:\n",
      "94.25287356321839\n",
      "predicted data accuracy:\n",
      "95.40229885057471\n",
      "predicted data accuracy:\n",
      "97.70114942528735\n",
      "predicted data accuracy:\n",
      "95.40229885057471\n",
      "predicted data accuracy:\n",
      "96.55172413793103\n",
      "predicted data accuracy:\n",
      "97.70114942528735\n",
      "predicted data accuracy:\n",
      "86.20689655172414\n",
      "predicted data accuracy:\n",
      "94.25287356321839\n",
      "predicted data accuracy:\n",
      "94.25287356321839\n",
      "predicted data accuracy:\n",
      "95.40229885057471\n",
      "predicted data accuracy:\n",
      "93.10344827586206\n",
      "predicted data accuracy:\n",
      "90.80459770114942\n",
      "predicted data accuracy:\n",
      "96.55172413793103\n",
      "predicted data accuracy:\n",
      "91.95402298850574\n",
      "predicted data accuracy:\n",
      "96.55172413793103\n",
      "predicted data accuracy:\n",
      "95.40229885057471\n",
      "predicted data accuracy:\n",
      "93.10344827586206\n",
      "predicted data accuracy:\n",
      "95.40229885057471\n",
      "predicted data accuracy:\n",
      "90.80459770114942\n",
      "predicted data accuracy:\n",
      "95.40229885057471\n",
      "predicted data accuracy:\n",
      "93.10344827586206\n",
      "predicted data accuracy:\n",
      "90.80459770114942\n",
      "predicted data accuracy:\n",
      "94.25287356321839\n",
      "predicted data accuracy:\n",
      "88.50574712643679\n",
      "predicted data accuracy:\n",
      "90.80459770114942\n",
      "predicted data accuracy:\n",
      "96.55172413793103\n",
      "predicted data accuracy:\n",
      "96.55172413793103\n",
      "predicted data accuracy:\n",
      "94.25287356321839\n",
      "predicted data accuracy:\n",
      "94.25287356321839\n",
      "predicted data accuracy:\n",
      "88.50574712643679\n",
      "predicted data accuracy:\n",
      "94.25287356321839\n",
      "predicted data accuracy:\n",
      "94.25287356321839\n",
      "predicted data accuracy:\n",
      "94.25287356321839\n",
      "predicted data accuracy:\n",
      "93.10344827586206\n",
      "predicted data accuracy:\n",
      "91.95402298850574\n",
      "predicted data accuracy:\n",
      "95.40229885057471\n",
      "predicted data accuracy:\n",
      "96.55172413793103\n",
      "predicted data accuracy:\n",
      "97.70114942528735\n",
      "predicted data accuracy:\n",
      "95.40229885057471\n",
      "predicted data accuracy:\n",
      "93.10344827586206\n",
      "predicted data accuracy:\n",
      "91.95402298850574\n",
      "predicted data accuracy:\n",
      "89.65517241379311\n",
      "predicted data accuracy:\n",
      "93.10344827586206\n",
      "predicted data accuracy:\n",
      "96.55172413793103\n",
      "predicted data accuracy:\n",
      "89.65517241379311\n",
      "predicted data accuracy:\n",
      "95.40229885057471\n",
      "predicted data accuracy:\n",
      "91.95402298850574\n",
      "predicted data accuracy:\n",
      "97.70114942528735\n",
      "predicted data accuracy:\n",
      "88.50574712643679\n",
      "predicted data accuracy:\n",
      "94.25287356321839\n",
      "predicted data accuracy:\n",
      "95.40229885057471\n",
      "predicted data accuracy:\n",
      "94.25287356321839\n",
      "predicted data accuracy:\n",
      "93.10344827586206\n",
      "predicted data accuracy:\n",
      "94.25287356321839\n",
      "predicted data accuracy:\n",
      "94.25287356321839\n",
      "predicted data accuracy:\n",
      "95.40229885057471\n",
      "predicted data accuracy:\n",
      "94.25287356321839\n",
      "predicted data accuracy:\n",
      "93.10344827586206\n",
      "predicted data accuracy:\n",
      "94.25287356321839\n",
      "predicted data accuracy:\n",
      "90.80459770114942\n",
      "predicted data accuracy:\n",
      "96.55172413793103\n",
      "predicted data accuracy:\n",
      "95.40229885057471\n",
      "predicted data accuracy:\n",
      "90.80459770114942\n",
      "predicted data accuracy:\n",
      "98.85057471264368\n",
      "predicted data accuracy:\n",
      "94.25287356321839\n",
      "predicted data accuracy:\n",
      "94.25287356321839\n",
      "predicted data accuracy:\n",
      "95.40229885057471\n",
      "predicted data accuracy:\n",
      "95.40229885057471\n",
      "predicted data accuracy:\n",
      "97.70114942528735\n",
      "predicted data accuracy:\n",
      "88.50574712643679\n",
      "predicted data accuracy:\n",
      "96.55172413793103\n",
      "predicted data accuracy:\n",
      "95.40229885057471\n",
      "predicted data accuracy:\n",
      "88.50574712643679\n",
      "predicted data accuracy:\n",
      "95.40229885057471\n",
      "predicted data accuracy:\n",
      "97.70114942528735\n",
      "predicted data accuracy:\n",
      "91.95402298850574\n",
      "predicted data accuracy:\n",
      "93.10344827586206\n",
      "predicted data accuracy:\n",
      "93.10344827586206\n",
      "predicted data accuracy:\n",
      "93.10344827586206\n",
      "predicted data accuracy:\n",
      "91.95402298850574\n",
      "predicted data accuracy:\n",
      "96.55172413793103\n",
      "predicted data accuracy:\n",
      "95.40229885057471\n",
      "predicted data accuracy:\n",
      "95.40229885057471\n",
      "predicted data accuracy:\n",
      "93.10344827586206\n",
      "predicted data accuracy:\n",
      "93.10344827586206\n",
      "predicted data accuracy:\n",
      "95.40229885057471\n",
      "predicted data accuracy:\n",
      "89.65517241379311\n",
      "predicted data accuracy:\n",
      "91.95402298850574\n",
      "[94.25287356321839, 86.20689655172414, 94.25287356321839, 90.80459770114942, 94.25287356321839, 90.80459770114942, 95.40229885057471, 93.10344827586206, 96.55172413793103, 95.40229885057471, 88.50574712643679, 94.25287356321839, 95.40229885057471, 97.70114942528735, 95.40229885057471, 96.55172413793103, 97.70114942528735, 86.20689655172414, 94.25287356321839, 94.25287356321839, 95.40229885057471, 93.10344827586206, 90.80459770114942, 96.55172413793103, 91.95402298850574, 96.55172413793103, 95.40229885057471, 93.10344827586206, 95.40229885057471, 90.80459770114942, 95.40229885057471, 93.10344827586206, 90.80459770114942, 94.25287356321839, 88.50574712643679, 90.80459770114942, 96.55172413793103, 96.55172413793103, 94.25287356321839, 94.25287356321839, 88.50574712643679, 94.25287356321839, 94.25287356321839, 94.25287356321839, 93.10344827586206, 91.95402298850574, 95.40229885057471, 96.55172413793103, 97.70114942528735, 95.40229885057471, 93.10344827586206, 91.95402298850574, 89.65517241379311, 93.10344827586206, 96.55172413793103, 89.65517241379311, 95.40229885057471, 91.95402298850574, 97.70114942528735, 88.50574712643679, 94.25287356321839, 95.40229885057471, 94.25287356321839, 93.10344827586206, 94.25287356321839, 94.25287356321839, 95.40229885057471, 94.25287356321839, 93.10344827586206, 94.25287356321839, 90.80459770114942, 96.55172413793103, 95.40229885057471, 90.80459770114942, 98.85057471264368, 94.25287356321839, 94.25287356321839, 95.40229885057471, 95.40229885057471, 97.70114942528735, 88.50574712643679, 96.55172413793103, 95.40229885057471, 88.50574712643679, 95.40229885057471, 97.70114942528735, 91.95402298850574, 93.10344827586206, 93.10344827586206, 93.10344827586206, 91.95402298850574, 96.55172413793103, 95.40229885057471, 95.40229885057471, 93.10344827586206, 93.10344827586206, 95.40229885057471, 89.65517241379311, 91.95402298850574]\n"
     ]
    }
   ],
   "source": [
    "accArray = []\n",
    "index = 0\n",
    "while index < 99:\n",
    "    trainX, trainY, testX, testY = train_test_split(x, y, test_size=0.2)\n",
    "    clf = tree.DecisionTreeClassifier()\n",
    "    clf = clf.fit(trainX, testX)\n",
    "    clf = clf.predict(trainY)\n",
    "    accArray.append(printOutPredict(clf,testY))\n",
    "    index +=1\n",
    "print(accArray)"
   ]
  },
  {
   "cell_type": "code",
   "execution_count": 60,
   "id": "5d59bbee",
   "metadata": {},
   "outputs": [
    {
     "name": "stdout",
     "output_type": "stream",
     "text": [
      "2.65026572704649\n",
      "93.75362823638686\n"
     ]
    },
    {
     "data": {
      "text/plain": [
       "(array([ 2.,  6.,  3.,  8.,  7., 14., 20., 21., 11.,  7.]),\n",
       " array([86.20689655, 87.47126437, 88.73563218, 90.        , 91.26436782,\n",
       "        92.52873563, 93.79310345, 95.05747126, 96.32183908, 97.5862069 ,\n",
       "        98.85057471]),\n",
       " <BarContainer object of 10 artists>)"
      ]
     },
     "execution_count": 60,
     "metadata": {},
     "output_type": "execute_result"
    },
    {
     "data": {
      "image/png": "[encoded data removed]",
      "text/plain": [
       "<Figure size 648x432 with 1 Axes>"
      ]
     },
     "metadata": {
      "needs_background": "light"
     },
     "output_type": "display_data"
    }
   ],
   "source": [
    "import matplotlib.pyplot as plt\n",
    "import numpy as np\n",
    "from matplotlib import colors\n",
    "from matplotlib.ticker import PercentFormatter\n",
    "\n",
    "npacc = np.array(accArray)\n",
    "print(npacc.std())\n",
    "print(npacc.mean())\n",
    "\n",
    "fig, axs = plt.subplots(figsize=(9,6))\n",
    "plt.xlabel('Accuracy')\n",
    "plt.ylabel('Number')\n",
    "axs.hist(accArray,bins=10,histtype='bar',facecolor='blue')"
   ]
  },
  {
   "cell_type": "code",
   "execution_count": null,
   "id": "e758909e",
   "metadata": {},
   "outputs": [],
   "source": []
  }
 ],
 "metadata": {
  "kernelspec": {
   "display_name": "Python 3.7.3 64-bit",
   "language": "python",
   "name": "python3"
  },
  "language_info": {
   "codemirror_mode": {
    "name": "ipython",
    "version": 3
   },
   "file_extension": ".py",
   "mimetype": "text/x-python",
   "name": "python",
   "nbconvert_exporter": "python",
   "pygments_lexer": "ipython3",
   "version": "3.7.3"
  },
  "vscode": {
   "interpreter": {
    "hash": "aee8b7b246df8f9039afb4144a1f6fd8d2ca17a180786b69acc140d282b71a49"
   }
  }
 },
 "nbformat": 4,
 "nbformat_minor": 5
}
