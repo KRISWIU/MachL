{
 "cells": [
  {
   "cell_type": "code",
   "execution_count": 1,
   "id": "e8dd356b",
   "metadata": {},
   "outputs": [],
   "source": [
    "import pandas\n",
    "import numpy as np\n",
    "import sklearn\n",
    "from sklearn.model_selection import train_test_split"
   ]
  },
  {
   "cell_type": "markdown",
   "id": "2a826798",
   "metadata": {},
   "source": [
    "# 1. set up for datasets and k values"
   ]
  },
  {
   "cell_type": "code",
   "execution_count": 2,
   "id": "31d2f287",
   "metadata": {},
   "outputs": [
    {
     "name": "stdout",
     "output_type": "stream",
     "text": [
      "[[4.9 3.0 1.4 0.2 'Iris-setosa']\n",
      " [4.7 3.2 1.3 0.2 'Iris-setosa']\n",
      " [4.6 3.1 1.5 0.2 'Iris-setosa']\n",
      " [5.0 3.6 1.4 0.2 'Iris-setosa']\n",
      " [5.4 3.9 1.7 0.4 'Iris-setosa']\n",
      " [4.6 3.4 1.4 0.3 'Iris-setosa']\n",
      " [5.0 3.4 1.5 0.2 'Iris-setosa']\n",
      " [4.4 2.9 1.4 0.2 'Iris-setosa']\n",
      " [4.9 3.1 1.5 0.1 'Iris-setosa']\n",
      " [5.4 3.7 1.5 0.2 'Iris-setosa']\n",
      " [4.8 3.4 1.6 0.2 'Iris-setosa']\n",
      " [4.8 3.0 1.4 0.1 'Iris-setosa']\n",
      " [4.3 3.0 1.1 0.1 'Iris-setosa']\n",
      " [5.8 4.0 1.2 0.2 'Iris-setosa']\n",
      " [5.7 4.4 1.5 0.4 'Iris-setosa']\n",
      " [5.4 3.9 1.3 0.4 'Iris-setosa']\n",
      " [5.1 3.5 1.4 0.3 'Iris-setosa']\n",
      " [5.7 3.8 1.7 0.3 'Iris-setosa']\n",
      " [5.1 3.8 1.5 0.3 'Iris-setosa']\n",
      " [5.4 3.4 1.7 0.2 'Iris-setosa']\n",
      " [5.1 3.7 1.5 0.4 'Iris-setosa']\n",
      " [4.6 3.6 1.0 0.2 'Iris-setosa']\n",
      " [5.1 3.3 1.7 0.5 'Iris-setosa']\n",
      " [4.8 3.4 1.9 0.2 'Iris-setosa']\n",
      " [5.0 3.0 1.6 0.2 'Iris-setosa']\n",
      " [5.0 3.4 1.6 0.4 'Iris-setosa']\n",
      " [5.2 3.5 1.5 0.2 'Iris-setosa']\n",
      " [5.2 3.4 1.4 0.2 'Iris-setosa']\n",
      " [4.7 3.2 1.6 0.2 'Iris-setosa']\n",
      " [4.8 3.1 1.6 0.2 'Iris-setosa']\n",
      " [5.4 3.4 1.5 0.4 'Iris-setosa']\n",
      " [5.2 4.1 1.5 0.1 'Iris-setosa']\n",
      " [5.5 4.2 1.4 0.2 'Iris-setosa']\n",
      " [4.9 3.1 1.5 0.1 'Iris-setosa']\n",
      " [5.0 3.2 1.2 0.2 'Iris-setosa']\n",
      " [5.5 3.5 1.3 0.2 'Iris-setosa']\n",
      " [4.9 3.1 1.5 0.1 'Iris-setosa']\n",
      " [4.4 3.0 1.3 0.2 'Iris-setosa']\n",
      " [5.1 3.4 1.5 0.2 'Iris-setosa']\n",
      " [5.0 3.5 1.3 0.3 'Iris-setosa']\n",
      " [4.5 2.3 1.3 0.3 'Iris-setosa']\n",
      " [4.4 3.2 1.3 0.2 'Iris-setosa']\n",
      " [5.0 3.5 1.6 0.6 'Iris-setosa']\n",
      " [5.1 3.8 1.9 0.4 'Iris-setosa']\n",
      " [4.8 3.0 1.4 0.3 'Iris-setosa']\n",
      " [5.1 3.8 1.6 0.2 'Iris-setosa']\n",
      " [4.6 3.2 1.4 0.2 'Iris-setosa']\n",
      " [5.3 3.7 1.5 0.2 'Iris-setosa']\n",
      " [5.0 3.3 1.4 0.2 'Iris-setosa']\n",
      " [7.0 3.2 4.7 1.4 'Iris-versicolor']\n",
      " [6.4 3.2 4.5 1.5 'Iris-versicolor']\n",
      " [6.9 3.1 4.9 1.5 'Iris-versicolor']\n",
      " [5.5 2.3 4.0 1.3 'Iris-versicolor']\n",
      " [6.5 2.8 4.6 1.5 'Iris-versicolor']\n",
      " [5.7 2.8 4.5 1.3 'Iris-versicolor']\n",
      " [6.3 3.3 4.7 1.6 'Iris-versicolor']\n",
      " [4.9 2.4 3.3 1.0 'Iris-versicolor']\n",
      " [6.6 2.9 4.6 1.3 'Iris-versicolor']\n",
      " [5.2 2.7 3.9 1.4 'Iris-versicolor']\n",
      " [5.0 2.0 3.5 1.0 'Iris-versicolor']\n",
      " [5.9 3.0 4.2 1.5 'Iris-versicolor']\n",
      " [6.0 2.2 4.0 1.0 'Iris-versicolor']\n",
      " [6.1 2.9 4.7 1.4 'Iris-versicolor']\n",
      " [5.6 2.9 3.6 1.3 'Iris-versicolor']\n",
      " [6.7 3.1 4.4 1.4 'Iris-versicolor']\n",
      " [5.6 3.0 4.5 1.5 'Iris-versicolor']\n",
      " [5.8 2.7 4.1 1.0 'Iris-versicolor']\n",
      " [6.2 2.2 4.5 1.5 'Iris-versicolor']\n",
      " [5.6 2.5 3.9 1.1 'Iris-versicolor']\n",
      " [5.9 3.2 4.8 1.8 'Iris-versicolor']\n",
      " [6.1 2.8 4.0 1.3 'Iris-versicolor']\n",
      " [6.3 2.5 4.9 1.5 'Iris-versicolor']\n",
      " [6.1 2.8 4.7 1.2 'Iris-versicolor']\n",
      " [6.4 2.9 4.3 1.3 'Iris-versicolor']\n",
      " [6.6 3.0 4.4 1.4 'Iris-versicolor']\n",
      " [6.8 2.8 4.8 1.4 'Iris-versicolor']\n",
      " [6.7 3.0 5.0 1.7 'Iris-versicolor']\n",
      " [6.0 2.9 4.5 1.5 'Iris-versicolor']\n",
      " [5.7 2.6 3.5 1.0 'Iris-versicolor']\n",
      " [5.5 2.4 3.8 1.1 'Iris-versicolor']\n",
      " [5.5 2.4 3.7 1.0 'Iris-versicolor']\n",
      " [5.8 2.7 3.9 1.2 'Iris-versicolor']\n",
      " [6.0 2.7 5.1 1.6 'Iris-versicolor']\n",
      " [5.4 3.0 4.5 1.5 'Iris-versicolor']\n",
      " [6.0 3.4 4.5 1.6 'Iris-versicolor']\n",
      " [6.7 3.1 4.7 1.5 'Iris-versicolor']\n",
      " [6.3 2.3 4.4 1.3 'Iris-versicolor']\n",
      " [5.6 3.0 4.1 1.3 'Iris-versicolor']\n",
      " [5.5 2.5 4.0 1.3 'Iris-versicolor']\n",
      " [5.5 2.6 4.4 1.2 'Iris-versicolor']\n",
      " [6.1 3.0 4.6 1.4 'Iris-versicolor']\n",
      " [5.8 2.6 4.0 1.2 'Iris-versicolor']\n",
      " [5.0 2.3 3.3 1.0 'Iris-versicolor']\n",
      " [5.6 2.7 4.2 1.3 'Iris-versicolor']\n",
      " [5.7 3.0 4.2 1.2 'Iris-versicolor']\n",
      " [5.7 2.9 4.2 1.3 'Iris-versicolor']\n",
      " [6.2 2.9 4.3 1.3 'Iris-versicolor']\n",
      " [5.1 2.5 3.0 1.1 'Iris-versicolor']\n",
      " [5.7 2.8 4.1 1.3 'Iris-versicolor']\n",
      " [6.3 3.3 6.0 2.5 'Iris-virginica']\n",
      " [5.8 2.7 5.1 1.9 'Iris-virginica']\n",
      " [7.1 3.0 5.9 2.1 'Iris-virginica']\n",
      " [6.3 2.9 5.6 1.8 'Iris-virginica']\n",
      " [6.5 3.0 5.8 2.2 'Iris-virginica']\n",
      " [7.6 3.0 6.6 2.1 'Iris-virginica']\n",
      " [4.9 2.5 4.5 1.7 'Iris-virginica']\n",
      " [7.3 2.9 6.3 1.8 'Iris-virginica']\n",
      " [6.7 2.5 5.8 1.8 'Iris-virginica']\n",
      " [7.2 3.6 6.1 2.5 'Iris-virginica']\n",
      " [6.5 3.2 5.1 2.0 'Iris-virginica']\n",
      " [6.4 2.7 5.3 1.9 'Iris-virginica']\n",
      " [6.8 3.0 5.5 2.1 'Iris-virginica']\n",
      " [5.7 2.5 5.0 2.0 'Iris-virginica']\n",
      " [5.8 2.8 5.1 2.4 'Iris-virginica']\n",
      " [6.4 3.2 5.3 2.3 'Iris-virginica']\n",
      " [6.5 3.0 5.5 1.8 'Iris-virginica']\n",
      " [7.7 3.8 6.7 2.2 'Iris-virginica']\n",
      " [7.7 2.6 6.9 2.3 'Iris-virginica']\n",
      " [6.0 2.2 5.0 1.5 'Iris-virginica']\n",
      " [6.9 3.2 5.7 2.3 'Iris-virginica']\n",
      " [5.6 2.8 4.9 2.0 'Iris-virginica']\n",
      " [7.7 2.8 6.7 2.0 'Iris-virginica']\n",
      " [6.3 2.7 4.9 1.8 'Iris-virginica']\n",
      " [6.7 3.3 5.7 2.1 'Iris-virginica']\n",
      " [7.2 3.2 6.0 1.8 'Iris-virginica']\n",
      " [6.2 2.8 4.8 1.8 'Iris-virginica']\n",
      " [6.1 3.0 4.9 1.8 'Iris-virginica']\n",
      " [6.4 2.8 5.6 2.1 'Iris-virginica']\n",
      " [7.2 3.0 5.8 1.6 'Iris-virginica']\n",
      " [7.4 2.8 6.1 1.9 'Iris-virginica']\n",
      " [7.9 3.8 6.4 2.0 'Iris-virginica']\n",
      " [6.4 2.8 5.6 2.2 'Iris-virginica']\n",
      " [6.3 2.8 5.1 1.5 'Iris-virginica']\n",
      " [6.1 2.6 5.6 1.4 'Iris-virginica']\n",
      " [7.7 3.0 6.1 2.3 'Iris-virginica']\n",
      " [6.3 3.4 5.6 2.4 'Iris-virginica']\n",
      " [6.4 3.1 5.5 1.8 'Iris-virginica']\n",
      " [6.0 3.0 4.8 1.8 'Iris-virginica']\n",
      " [6.9 3.1 5.4 2.1 'Iris-virginica']\n",
      " [6.7 3.1 5.6 2.4 'Iris-virginica']\n",
      " [6.9 3.1 5.1 2.3 'Iris-virginica']\n",
      " [5.8 2.7 5.1 1.9 'Iris-virginica']\n",
      " [6.8 3.2 5.9 2.3 'Iris-virginica']\n",
      " [6.7 3.3 5.7 2.5 'Iris-virginica']\n",
      " [6.7 3.0 5.2 2.3 'Iris-virginica']\n",
      " [6.3 2.5 5.0 1.9 'Iris-virginica']\n",
      " [6.5 3.0 5.2 2.0 'Iris-virginica']\n",
      " [6.2 3.4 5.4 2.3 'Iris-virginica']\n",
      " [5.9 3.0 5.1 1.8 'Iris-virginica']]\n"
     ]
    }
   ],
   "source": [
    "datasets = np.array(pandas.read_csv('iris.csv'))\n",
    "print(datasets)"
   ]
  },
  {
   "cell_type": "code",
   "execution_count": 3,
   "id": "4f7bf23b",
   "metadata": {},
   "outputs": [],
   "source": [
    "x = datasets[:,[0,1,2,3]]\n",
    "y = datasets[:,4]"
   ]
  },
  {
   "cell_type": "code",
   "execution_count": 4,
   "id": "bf6db19a",
   "metadata": {},
   "outputs": [
    {
     "name": "stdout",
     "output_type": "stream",
     "text": [
      "[0, 0, 0, 0, 0, 0, 0, 0, 0, 0, 0, 0, 0, 0, 0, 0, 0, 0, 0, 0, 0, 0, 0, 0, 0, 0, 0, 0, 0, 0, 0, 0, 0, 0, 0, 0, 0, 0, 0, 0, 0, 0, 0, 0, 0, 0, 0, 0, 0, 1, 1, 1, 1, 1, 1, 1, 1, 1, 1, 1, 1, 1, 1, 1, 1, 1, 1, 1, 1, 1, 1, 1, 1, 1, 1, 1, 1, 1, 1, 1, 1, 1, 1, 1, 1, 1, 1, 1, 1, 1, 1, 1, 1, 1, 1, 1, 1, 1, 1, 2, 2, 2, 2, 2, 2, 2, 2, 2, 2, 2, 2, 2, 2, 2, 2, 2, 2, 2, 2, 2, 2, 2, 2, 2, 2, 2, 2, 2, 2, 2, 2, 2, 2, 2, 2, 2, 2, 2, 2, 2, 2, 2, 2, 2, 2, 2, 2, 2, 2]\n"
     ]
    }
   ],
   "source": [
    "y_processed = []\n",
    "for thing in y:\n",
    "    if thing == 'Iris-setosa':\n",
    "        y_processed.append(0)\n",
    "    if thing == 'Iris-versicolor':\n",
    "        y_processed.append(1)\n",
    "    if thing == 'Iris-virginica':\n",
    "        y_processed.append(2)\n",
    "print(y_processed)"
   ]
  },
  {
   "cell_type": "code",
   "execution_count": 5,
   "id": "38a59559",
   "metadata": {},
   "outputs": [],
   "source": [
    "trainX, testX, trainY, testY = train_test_split(x, y_processed, test_size=0.2)"
   ]
  },
  {
   "cell_type": "code",
   "execution_count": 6,
   "id": "4cdf8baf",
   "metadata": {},
   "outputs": [],
   "source": [
    "#k could be 1-51\n",
    "k = 3"
   ]
  },
  {
   "cell_type": "markdown",
   "id": "82904634",
   "metadata": {},
   "source": [
    "# 2. train and predict"
   ]
  },
  {
   "cell_type": "code",
   "execution_count": 7,
   "id": "86d2d516",
   "metadata": {},
   "outputs": [],
   "source": [
    "# distance calculation\n",
    "from math import sqrt\n",
    "def distance_Cal(k, testCase, trainX, trainY):\n",
    "    distanceArr = []\n",
    "    count = 0\n",
    "    for point in trainX:\n",
    "        distance0 = testCase[0] - point[0]\n",
    "        distance1 = testCase[1] - point[1]\n",
    "        distance2 = testCase[2] - point[2]\n",
    "        distance3 = testCase[3] - point[3]\n",
    "        distanceTotal = distance0*distance0 + distance1*distance1 + distance2*distance2 + distance2*distance2\n",
    "        distanceTotal = sqrt(distanceTotal)\n",
    "        #print(\"trainY[count]\")\n",
    "        #print(trainY[count])\n",
    "        #print(\"distanceTotal\")\n",
    "        #print(distanceTotal)\n",
    "        distanceArr.append([distanceTotal,trainY[count]])\n",
    "        count = count+1\n",
    "    distanceNP = np.array(distanceArr)\n",
    "    distanceSort = distanceNP[np.argsort(distanceNP[:, 0])]\n",
    "    #distanceSort = np.sort(distanceNP,axis = 0)\n",
    "    #print(distanceSort)\n",
    "    count0 = 0\n",
    "    count1 = 0\n",
    "    count2 = 0\n",
    "    countk = 0\n",
    "    while countk<k:\n",
    "        temp = distanceSort[countk]\n",
    "        if temp[1] == 0:\n",
    "            count0 = count0+1\n",
    "        if temp[1] == 1:\n",
    "            count1 = count1+1\n",
    "        if temp[1] == 2:\n",
    "            count2 = count2+1\n",
    "        countk = countk+1\n",
    "    #print(\"-----\")\n",
    "    #print(count0)\n",
    "    #print(count1)\n",
    "    #print(count2)\n",
    "    if count0>count1:\n",
    "        if count0>count2:\n",
    "            return 0\n",
    "    if count1>count0:\n",
    "        if count1>count2:\n",
    "            return 1\n",
    "    if count2>count1:\n",
    "        if count2>count0:\n",
    "            return 2"
   ]
  },
  {
   "cell_type": "code",
   "execution_count": 8,
   "id": "5a8ca9ac",
   "metadata": {},
   "outputs": [],
   "source": [
    "# for checking accuracy\n",
    "def printOutPredict(prediction, accurate):\n",
    "    totalNum = len(prediction)\n",
    "    accNum = 0\n",
    "    index = 0\n",
    "    while index<totalNum:\n",
    "        #print(prediction[index])\n",
    "        #print(accurate[index])\n",
    "        if prediction[index]==accurate[index]:\n",
    "            accNum = accNum+1\n",
    "        index = index+1\n",
    "    #print(\"predicted data accuracy:\")\n",
    "    #print(accNum*100.0/totalNum)\n",
    "    return accNum*100.0/totalNum"
   ]
  },
  {
   "cell_type": "code",
   "execution_count": 9,
   "id": "1b2b4f59",
   "metadata": {},
   "outputs": [],
   "source": [
    "def train_predict(k,trainX, trainY,testX, testY):\n",
    "    prediction = []\n",
    "    for testData in testX:\n",
    "        #print(distance_Cal(k,testData,trainX,trainY))\n",
    "        prediction.append(distance_Cal(k,testData,trainX,trainY))\n",
    "    acc = printOutPredict(prediction,testY)\n",
    "    return prediction"
   ]
  },
  {
   "cell_type": "code",
   "execution_count": 10,
   "id": "bc9d75f2",
   "metadata": {
    "scrolled": false
   },
   "outputs": [
    {
     "name": "stdout",
     "output_type": "stream",
     "text": [
      "[1, 2, 2, 1, 2, 0, 1, 1, 2, 1, 1, 0, 0, 2, 0, 2, 0, 1, 2, 2, 2, 0, 1, 1, 2, 0, 2, 1, 1, 0, 2, 2, 0, 2, 0, 1, 0, 1, 0, 0, 1, 0, 1, 2, 0, 1, 2, 0, 1, 0, 0, 1, 0, 0, 1, 2, 1, 0, 2, 1, 0, 1, 0, 0, 0, 2, 0, 1, 2, 1, 1, 2, 2, 2, 1, 1, 0, 2, 1, 1, 1, 2, 0, 1, 1, 0, 0, 0, 1, 0, 2, 1, 2, 2, 1, 2, 2, 2, 0, 0, 1, 2, 1, 0, 0, 1, 2, 2, 2, 2, 2, 0, 0, 0, 1, 1, 1, 1, 0]\n"
     ]
    }
   ],
   "source": [
    "prediction = train_predict(k,trainX,trainY,trainX,trainY)\n",
    "print(prediction)"
   ]
  },
  {
   "cell_type": "code",
   "execution_count": 11,
   "id": "9c76dbcb",
   "metadata": {},
   "outputs": [],
   "source": [
    "#prediction = train_predict(k,trainX,trainY,testX,testY)\n"
   ]
  },
  {
   "cell_type": "code",
   "execution_count": 12,
   "id": "6e14cf9a",
   "metadata": {},
   "outputs": [],
   "source": [
    "k = 1\n",
    "predictionTrainSet = []\n",
    "predictionTestSet = []\n",
    "while k<=51:\n",
    "    index = 0\n",
    "    trainSet = []\n",
    "    testSet = []\n",
    "    while index<20:\n",
    "        trainX, testX, trainY, testY = train_test_split(x, y_processed, test_size=0.2)\n",
    "        predictionTrain = train_predict(k,trainX,trainY,trainX,trainY)\n",
    "        predictionTest = train_predict(k,trainX,trainY,testX,testY)\n",
    "        trainSet.append(printOutPredict(predictionTrain,trainY))\n",
    "        testSet.append(printOutPredict(predictionTest,testY))\n",
    "        index += 1\n",
    "    predictionTrainSet.append(trainSet)\n",
    "    predictionTestSet.append(testSet)\n",
    "    k+=2"
   ]
  },
  {
   "cell_type": "code",
   "execution_count": 13,
   "id": "ab0a4ae8",
   "metadata": {},
   "outputs": [],
   "source": [
    "import matplotlib.pyplot as plt\n",
    "index = 1\n",
    "x = []\n",
    "while index<52:\n",
    "    x.append(index)\n",
    "    index+=2"
   ]
  },
  {
   "cell_type": "code",
   "execution_count": 14,
   "id": "ddfa4e27",
   "metadata": {},
   "outputs": [],
   "source": [
    "import matplotlib.pyplot as plt\n",
    "import math\n",
    "def show_plot_of(accuracies,ks)->None:    \n",
    "    accuracies_average = []\n",
    "    accuracies_std = []\n",
    "    for accuracy in accuracies:\n",
    "        accuracies_average.append(sum(accuracy)/len(accuracy))\n",
    "        accuracies_std.append(np.std(accuracy))\n",
    "    plt.plot(ks,accuracies_average)\n",
    "    plt.scatter(ks, accuracies_average)\n",
    "    plt.errorbar(ks,accuracies_average,yerr=accuracies_std,capsize = 3)\n",
    "    plt.xlabel('Value of k')\n",
    "    plt.ylabel('Accuracy')\n",
    "    plt.show"
   ]
  },
  {
   "cell_type": "code",
   "execution_count": 18,
   "id": "2604f27f",
   "metadata": {},
   "outputs": [
    {
     "data": {
      "image/png": "[encoded data removed]",
      "text/plain": [
       "<Figure size 432x288 with 1 Axes>"
      ]
     },
     "metadata": {
      "needs_background": "light"
     },
     "output_type": "display_data"
    }
   ],
   "source": [
    "show_plot_of(predictionTrainSet,x)"
   ]
  },
  {
   "cell_type": "code",
   "execution_count": null,
   "id": "d5e06564",
   "metadata": {},
   "outputs": [],
   "source": []
  },
  {
   "cell_type": "code",
   "execution_count": null,
   "id": "f2d86bbb",
   "metadata": {},
   "outputs": [],
   "source": []
  }
 ],
 "metadata": {
  "kernelspec": {
   "display_name": "Python 3 (ipykernel)",
   "language": "python",
   "name": "python3"
  },
  "language_info": {
   "codemirror_mode": {
    "name": "ipython",
    "version": 3
   },
   "file_extension": ".py",
   "mimetype": "text/x-python",
   "name": "python",
   "nbconvert_exporter": "python",
   "pygments_lexer": "ipython3",
   "version": "3.7.3"
  }
 },
 "nbformat": 4,
 "nbformat_minor": 5
}
